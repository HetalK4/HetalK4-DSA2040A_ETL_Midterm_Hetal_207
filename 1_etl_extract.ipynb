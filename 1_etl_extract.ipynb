{
 "cells": [
  {
   "cell_type": "markdown",
   "id": "a94131d3",
   "metadata": {},
   "source": [
    "## raw_data.csv\n",
    "\n",
    "•\n",
    "Load and preview raw_data.csv.\n",
    "\n",
    "•\n",
    "Display a .head() and .info().\n",
    "\n",
    "•\n",
    "Add observations (e.g., missing values, suspicious columns, duplicates).\n",
    "\n",
    "•\n",
    "Save raw copies to data/ directory."
   ]
  },
  {
   "cell_type": "code",
   "execution_count": 1,
   "id": "11a20660",
   "metadata": {},
   "outputs": [
    {
     "name": "stdout",
     "output_type": "stream",
     "text": [
      "Extracted 100 rows fully\n",
      "Number of rows: 100\n",
      "Number of columns: 7\n"
     ]
    }
   ],
   "source": [
    "# Importing necessary libraries\n",
    "import pandas as pd\n",
    "\n",
    "# Implementing extraction on 'raw_data.csv'\n",
    "\n",
    "# Loading and previewing 'raw_data.csv'\n",
    "raw_data = pd.read_csv(\"raw_data.csv\")\n",
    "\n",
    "print(f\"Extracted {len(raw_data)} rows fully\")\n",
    "\n",
    "# Displaying the number of rows and columns in 'raw_data.csv'\n",
    "num_rows, num_columns = raw_data.shape\n",
    "print(f\"Number of rows: {num_rows}\")\n",
    "print(f\"Number of columns: {num_columns}\")\n"
   ]
  },
  {
   "cell_type": "code",
   "execution_count": 5,
   "id": "a3b65547",
   "metadata": {},
   "outputs": [
    {
     "name": "stdout",
     "output_type": "stream",
     "text": [
      "Below are the first 5 observations in the dataset: \n",
      "\n",
      "   order_id customer_name product  quantity  unit_price  order_date region\n",
      "0         1         Diana  Tablet       NaN       500.0  2024-01-20  South\n",
      "1         2           Eve  Laptop       NaN         NaN  2024-04-29  North\n",
      "2         3       Charlie  Laptop       2.0       250.0  2024-01-08    NaN\n",
      "3         4           Eve  Laptop       2.0       750.0  2024-01-07   West\n",
      "4         5           Eve  Tablet       3.0         NaN  2024-03-07  South\n",
      "\n",
      "\n",
      "\n",
      "Summary of the data types and non-null counts in the dataset: \n",
      "\n",
      "<class 'pandas.core.frame.DataFrame'>\n",
      "RangeIndex: 100 entries, 0 to 99\n",
      "Data columns (total 7 columns):\n",
      " #   Column         Non-Null Count  Dtype  \n",
      "---  ------         --------------  -----  \n",
      " 0   order_id       100 non-null    int64  \n",
      " 1   customer_name  99 non-null     object \n",
      " 2   product        100 non-null    object \n",
      " 3   quantity       74 non-null     float64\n",
      " 4   unit_price     65 non-null     float64\n",
      " 5   order_date     99 non-null     object \n",
      " 6   region         75 non-null     object \n",
      "dtypes: float64(2), int64(1), object(4)\n",
      "memory usage: 5.6+ KB\n",
      "None\n"
     ]
    }
   ],
   "source": [
    "# Displaying a '.head()' and '.info()'\n",
    "print(f\"Below are the first 5 observations in the dataset: \\n\")\n",
    "print(raw_data.head())\n",
    "\n",
    "print(f\"\\n\\n\")\n",
    "\n",
    "print(f\"Summary of the data types and non-null counts in the dataset: \\n\")\n",
    "print(raw_data.info())\n"
   ]
  },
  {
   "cell_type": "code",
   "execution_count": null,
   "id": "3a963ac3",
   "metadata": {},
   "outputs": [
    {
     "name": "stdout",
     "output_type": "stream",
     "text": [
      "The number of missing values in each column are: \n",
      " order_id          0\n",
      "customer_name     1\n",
      "product           0\n",
      "quantity         26\n",
      "unit_price       35\n",
      "order_date        1\n",
      "region           25\n",
      "dtype: int64 \n",
      "\n",
      "Suspicious columns include: \n",
      " Index([], dtype='object') \n",
      "\n",
      "The number of duplicate rows include: \n",
      " 1 \n",
      "\n"
     ]
    }
   ],
   "source": [
    "# Missing values\n",
    "missing_values_raw = raw_data.isnull().sum()\n",
    "print(f\"The number of missing values in each column are: \\n {missing_values_raw} \\n\")\n",
    "\n",
    "# Suspicious columns\n",
    "suspicious_columns_raw = raw_data.columns[raw_data.nunique() < 2]  # Checking for low variance\n",
    "print(f\"Suspicious columns include: \\n {suspicious_columns_raw} \\n\")\n",
    "\n",
    "# Duplicates\n",
    "duplicates_raw = raw_data.duplicated().sum()\n",
    "print(f\"The number of duplicate rows include: \\n {duplicates_raw} \\n\")"
   ]
  },
  {
   "cell_type": "code",
   "execution_count": null,
   "id": "fcd4af42",
   "metadata": {},
   "outputs": [],
   "source": [
    "# Saving raw copy\n",
    "raw_data.to_csv('1_data/raw_data_copy.csv', index=False)"
   ]
  },
  {
   "cell_type": "markdown",
   "id": "5e793fcc",
   "metadata": {},
   "source": [
    "## incremental_data.csv\n",
    "\n",
    "•\n",
    "Load and preview incremental_data.csv.\n",
    "\n",
    "•\n",
    "Display a .head() and .info().\n",
    "\n",
    "•\n",
    "Add observations (e.g., missing values, suspicious columns, duplicates).\n",
    "\n",
    "•\n",
    "Save raw copies to data/ directory."
   ]
  },
  {
   "cell_type": "code",
   "execution_count": 2,
   "id": "883de7fd",
   "metadata": {},
   "outputs": [
    {
     "name": "stdout",
     "output_type": "stream",
     "text": [
      "Extracted 10 rows fully\n",
      "Number of rows: 10\n",
      "Number of columns: 7\n"
     ]
    }
   ],
   "source": [
    "# Importing necessary libraries\n",
    "import pandas as pd\n",
    "\n",
    "# Implementing extraction on 'incremental_data.csv'\n",
    "\n",
    "# Loading and previewing 'incremental_data.csv'\n",
    "incremental_data = pd.read_csv(\"incremental_data.csv\")\n",
    "\n",
    "print(f\"Extracted {len(incremental_data)} rows fully\")\n",
    "\n",
    "# Displaying the number of rows and columns in 'incremental_data.csv'\n",
    "num_rows, num_columns = incremental_data.shape\n",
    "print(f\"Number of rows: {num_rows}\")\n",
    "print(f\"Number of columns: {num_columns}\")"
   ]
  },
  {
   "cell_type": "code",
   "execution_count": 6,
   "id": "9b788626",
   "metadata": {},
   "outputs": [
    {
     "name": "stdout",
     "output_type": "stream",
     "text": [
      "Below are the first 5 observations in the dataset: \n",
      "\n",
      "   order_id customer_name product  quantity  unit_price  order_date   region\n",
      "0       101         Alice  Laptop       NaN       900.0  2024-05-09  Central\n",
      "1       102           NaN  Laptop       1.0       300.0  2024-05-07  Central\n",
      "2       103           NaN  Laptop       1.0       600.0  2024-05-04  Central\n",
      "3       104           NaN  Tablet       NaN       300.0  2024-05-26  Central\n",
      "4       105         Heidi  Tablet       2.0       600.0  2024-05-21    North\n",
      "\n",
      "\n",
      "\n",
      "Summary of the data types and non-null counts in the dataset: \n",
      "\n",
      "<class 'pandas.core.frame.DataFrame'>\n",
      "RangeIndex: 10 entries, 0 to 9\n",
      "Data columns (total 7 columns):\n",
      " #   Column         Non-Null Count  Dtype  \n",
      "---  ------         --------------  -----  \n",
      " 0   order_id       10 non-null     int64  \n",
      " 1   customer_name  4 non-null      object \n",
      " 2   product        10 non-null     object \n",
      " 3   quantity       6 non-null      float64\n",
      " 4   unit_price     10 non-null     float64\n",
      " 5   order_date     10 non-null     object \n",
      " 6   region         8 non-null      object \n",
      "dtypes: float64(2), int64(1), object(4)\n",
      "memory usage: 692.0+ bytes\n",
      "None\n"
     ]
    }
   ],
   "source": [
    "# Displaying a '.head()' and '.info()'\n",
    "print(f\"Below are the first 5 observations in the dataset: \\n\")\n",
    "print(incremental_data.head())\n",
    "\n",
    "print(f\"\\n\\n\")\n",
    "\n",
    "print(f\"Summary of the data types and non-null counts in the dataset: \\n\")\n",
    "print(incremental_data.info())"
   ]
  },
  {
   "cell_type": "code",
   "execution_count": 14,
   "id": "9e145978",
   "metadata": {},
   "outputs": [
    {
     "name": "stdout",
     "output_type": "stream",
     "text": [
      "The number of missing values in each column are: \n",
      " order_id         0\n",
      "customer_name    6\n",
      "product          0\n",
      "quantity         4\n",
      "unit_price       0\n",
      "order_date       0\n",
      "region           2\n",
      "dtype: int64 \n",
      "\n",
      "Suspicious columns include: \n",
      " Index([], dtype='object') \n",
      "\n",
      "The number of duplicate rows include: \n",
      " 0 \n",
      "\n"
     ]
    }
   ],
   "source": [
    "# Missing values\n",
    "missing_values_incremental = incremental_data.isnull().sum()\n",
    "print(f\"The number of missing values in each column are: \\n {missing_values_incremental} \\n\")\n",
    "\n",
    "# Suspicious columns\n",
    "suspicious_columns_incremental = incremental_data.columns[incremental_data.nunique() < 2]  # Checking for low variance\n",
    "print(f\"Suspicious columns include: \\n {suspicious_columns_incremental} \\n\")\n",
    "\n",
    "# Duplicates\n",
    "duplicates_incremental = incremental_data.duplicated().sum()\n",
    "print(f\"The number of duplicate rows include: \\n {duplicates_incremental} \\n\")"
   ]
  },
  {
   "cell_type": "code",
   "execution_count": 16,
   "id": "a4620638",
   "metadata": {},
   "outputs": [],
   "source": [
    "# Saving raw copy\n",
    "incremental_data.to_csv('1_data/incremental_data_copy.csv', index=False)"
   ]
  }
 ],
 "metadata": {
  "kernelspec": {
   "display_name": "Python 3",
   "language": "python",
   "name": "python3"
  },
  "language_info": {
   "codemirror_mode": {
    "name": "ipython",
    "version": 3
   },
   "file_extension": ".py",
   "mimetype": "text/x-python",
   "name": "python",
   "nbconvert_exporter": "python",
   "pygments_lexer": "ipython3",
   "version": "3.12.10"
  }
 },
 "nbformat": 4,
 "nbformat_minor": 5
}
